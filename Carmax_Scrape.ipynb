{
 "cells": [
  {
   "cell_type": "code",
   "execution_count": null,
   "id": "ec73f15b",
   "metadata": {},
   "outputs": [],
   "source": [
    "import requests\n",
    "import re\n",
    "from bs4 import BeautifulSoup"
   ]
  },
  {
   "cell_type": "code",
   "execution_count": null,
   "id": "d68deb31",
   "metadata": {},
   "outputs": [],
   "source": [
    "from selenium import webdriver\n",
    "from selenium.webdriver.common.by import By\n",
    "import time\n",
    "from selenium.common.exceptions import NoSuchElementException"
   ]
  },
  {
   "cell_type": "code",
   "execution_count": null,
   "id": "24b5fc66",
   "metadata": {},
   "outputs": [],
   "source": [
    "import csv\n",
    "csvFile = open('link.csv', 'w+', encoding = 'utf-8-sig')\n",
    "writer = csv.writer(csvFile)\n",
    "writer.writerow(('ID','Link'))"
   ]
  },
  {
   "cell_type": "code",
   "execution_count": null,
   "id": "b85b0316",
   "metadata": {},
   "outputs": [],
   "source": [
    "driver = webdriver.Chrome()"
   ]
  },
  {
   "cell_type": "code",
   "execution_count": null,
   "id": "85ea9389",
   "metadata": {},
   "outputs": [],
   "source": [
    "driver.get(\"https://www.carmax.com/cars/electric?includenontransferables=true\")"
   ]
  },
  {
   "cell_type": "code",
   "execution_count": null,
   "id": "71d2316f",
   "metadata": {},
   "outputs": [],
   "source": [
    "soup = BeautifulSoup(driver.page_source, \"html.parser\")\n",
    "total = soup.find(\"span\", attrs={\"class\":\"header-value hzn-typography--body-1\"})\n",
    "total = int(total.text)\n",
    "for i in range(int(total/24)):\n",
    "    button = driver.find_element(By.CSS_SELECTOR, \"a.neo-button.kmx-button.neo-button--tertiary, button.neo-button.kmx-button.neo-button--tertiary\")\n",
    "    button.click()\n",
    "    driver.execute_script(\"window.scrollTo(0, document.body.scrollHeight*(5/7));\")    \n",
    "    time.sleep(5)\n",
    "    if i%5 == 0:\n",
    "        time.sleep(7)"
   ]
  },
  {
   "cell_type": "code",
   "execution_count": null,
   "id": "da242dcd",
   "metadata": {},
   "outputs": [],
   "source": [
    "soup = BeautifulSoup(driver.page_source, \"html.parser\")"
   ]
  },
  {
   "cell_type": "code",
   "execution_count": null,
   "id": "665e77a8",
   "metadata": {},
   "outputs": [],
   "source": [
    "elements= soup.findAll(\"div\", attrs={\"class\":\"sc--tile-shell\"})"
   ]
  },
  {
   "cell_type": "code",
   "execution_count": null,
   "id": "b5725a47",
   "metadata": {},
   "outputs": [],
   "source": [
    "i = 1\n",
    "for element in elements:\n",
    "    link = element.find(\"a\", attrs={\"class\":\"make-model-link kmx-list-item-link\"})\n",
    "    link = str(link)\n",
    "    link = re.search('href=\\\".*\\\"', link)\n",
    "    link = link.group()\n",
    "    link = \"https://www.carmax.com/\" + link[6:19]\n",
    "    writer.writerow((i,link))\n",
    "    i = i + 1"
   ]
  },
  {
   "cell_type": "code",
   "execution_count": null,
   "id": "1a013328",
   "metadata": {},
   "outputs": [],
   "source": [
    "csvFile.close()"
   ]
  },
  {
   "cell_type": "code",
   "execution_count": null,
   "id": "23a9d088",
   "metadata": {},
   "outputs": [],
   "source": [
    "driver.quit()"
   ]
  },
  {
   "cell_type": "code",
   "execution_count": null,
   "id": "6e2f73c1",
   "metadata": {},
   "outputs": [],
   "source": [
    "import pandas as pd"
   ]
  },
  {
   "cell_type": "code",
   "execution_count": null,
   "id": "bbde0594",
   "metadata": {},
   "outputs": [],
   "source": [
    "df = pd.read_csv(\"link.csv\")"
   ]
  },
  {
   "cell_type": "code",
   "execution_count": null,
   "id": "2ed019ae",
   "metadata": {},
   "outputs": [],
   "source": [
    "link = df.loc[0,'Link']"
   ]
  },
  {
   "cell_type": "code",
   "execution_count": null,
   "id": "f8d14252",
   "metadata": {},
   "outputs": [],
   "source": [
    "driver = webdriver.Chrome()"
   ]
  },
  {
   "cell_type": "code",
   "execution_count": null,
   "id": "ff12f626",
   "metadata": {},
   "outputs": [],
   "source": [
    "for i in non_list:\n",
    "    link = df.loc[i,'Link']\n",
    "    driver.get(link)\n",
    "    time.sleep(3)\n",
    "    driver.execute_script(\"window.scrollTo(0, document.body.scrollHeight/10);\")\n",
    "    time.sleep(2)\n",
    "    driver.execute_script(\"window.scrollTo(0, document.body.scrollHeight/5);\")\n",
    "    time.sleep(3)\n",
    "    driver.execute_script(\"window.scrollTo(0, document.body.scrollHeight/4);\")\n",
    "    time.sleep(2)\n",
    "    driver.execute_script(\"window.scrollTo(0, document.body.scrollHeight/3);\")\n",
    "    time.sleep(2)\n",
    "    driver.execute_script(\"window.scrollTo(0, document.body.scrollHeight/2);\")\n",
    "    time.sleep(3)\n",
    "    driver.execute_script(\"window.scrollTo(0, document.body.scrollHeight);\")\n",
    "    time.sleep(1)\n",
    "\n",
    "    score = driver.find_element(By.XPATH, \"//*[@id=\\\"car-page-features-and-specs-section\\\"]/div[1]\")\n",
    "    score = str(score.text)[0]\n",
    "    soup = BeautifulSoup(driver.page_source, \"html.parser\")\n",
    "    title_element = soup.find(\"h1\")\n",
    "    price = soup.find(\"span\", attrs={\"class\":\"car-header-price\"})\n",
    "    miles = soup.find(\"span\", attrs={\"class\":\"car-header-mileage\"})\n",
    "    motor = driver.find_element(By.XPATH,\"//*[@id=\\\"car-page-tombstone-section\\\"]/div[1]\")\n",
    "    drive = driver.find_element(By.XPATH,\"//*[@id=\\\"car-page-tombstone-section\\\"]/div[2]\")\n",
    "    trans = driver.find_element(By.XPATH,\"//*[@id=\\\"car-page-tombstone-section\\\"]/div[3]\")\n",
    "    color = driver.find_element(By.XPATH,\"//*[@id=\\\"car-page-tombstone-section\\\"]/div[4]\")\n",
    "    prior_use = driver.find_element(By.XPATH,\"//*[@id=\\\"prior-use-section\\\"]\")\n",
    "    owner_amount = soup.find(\"hzn-text\", attrs={\"size\":\"base\", \"align-y\":\"center\"})\n",
    "    driver.execute_script(\"window.scrollTo(0, document.body.scrollHeight/5);\")\n",
    "    button = driver.find_element(By.TAG_NAME, \"hzn-button\")\n",
    "    button.click()\n",
    "    soup = BeautifulSoup(driver.page_source, \"html.parser\")\n",
    "    features = []\n",
    "    tags = soup.findAll(\"hzn-text\", attrs={\"class\":\"feature-column-text-modal\"})\n",
    "    for tag in tags:\n",
    "        features.append(tag.text)\n",
    "    goods = soup.findAll(\"span\", attrs={\"class\":\"model-content-button-text\"})\n",
    "    for good in goods:\n",
    "        features.append(good.text)\n",
    "    try:\n",
    "        button = driver.find_element(By.CSS_SELECTOR, \".MuiIconButton-root.close-icon\")\n",
    "        button.click()\n",
    "    except NoSuchElementException:\n",
    "        print(i)\n",
    "        continue\n",
    "    time.sleep(3)\n",
    "    print(i)\n",
    "    driver.execute_script(\"window.scrollTo(0, document.body.scrollHeight/10);\")\n",
    "    df.loc[i,'Title'] = title_element.text\n",
    "    df.loc[i,'Price'] = price.text.strip()[:-1]\n",
    "    df.loc[i,'Miles'] = miles.text[:-6]\n",
    "    df.loc[i,'Score'] = str(score)[0]\n",
    "    df.loc[i,'Motor'] = motor.text[:-6]\n",
    "    df.loc[i,'Drive_Type'] = drive.text[:-11]\n",
    "    df.loc[i,'Transmission'] = trans.text[:-13]\n",
    "    df.loc[i,'Color'] = color.text[:-6]\n",
    "    df.loc[i,'Prior_Use'] = prior_use.text[:-10]\n",
    "    df.loc[i,'PreOwner_Amount'] = owner_amount.text[:-6]\n",
    "    df.loc[i,'Features'] = str(features)\n",
    "    if i%3 ==0:\n",
    "        time.sleep(10)"
   ]
  },
  {
   "cell_type": "code",
   "execution_count": null,
   "id": "465053d9",
   "metadata": {},
   "outputs": [],
   "source": [
    "df.to_csv('final.csv')"
   ]
  },
  {
   "cell_type": "code",
   "execution_count": null,
   "id": "c229b6a9",
   "metadata": {},
   "outputs": [],
   "source": [
    "driver.quit()"
   ]
  }
 ],
 "metadata": {
  "kernelspec": {
   "display_name": "Python 3 (ipykernel)",
   "language": "python",
   "name": "python3"
  },
  "language_info": {
   "codemirror_mode": {
    "name": "ipython",
    "version": 3
   },
   "file_extension": ".py",
   "mimetype": "text/x-python",
   "name": "python",
   "nbconvert_exporter": "python",
   "pygments_lexer": "ipython3",
   "version": "3.10.9"
  }
 },
 "nbformat": 4,
 "nbformat_minor": 5
}
